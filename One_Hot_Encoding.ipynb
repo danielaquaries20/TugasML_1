{
  "cells": [
    {
      "cell_type": "markdown",
      "metadata": {
        "id": "view-in-github",
        "colab_type": "text"
      },
      "source": [
        "<a href=\"https://colab.research.google.com/github/danielaquaries20/TugasML_1/blob/master/One_Hot_Encoding.ipynb\" target=\"_parent\"><img src=\"https://colab.research.google.com/assets/colab-badge.svg\" alt=\"Open In Colab\"/></a>"
      ]
    },
    {
      "cell_type": "code",
      "execution_count": null,
      "id": "4d1aaa95",
      "metadata": {
        "id": "4d1aaa95"
      },
      "outputs": [],
      "source": [
        "# Import library\n",
        "import random\n",
        "import pandas as pd\n",
        "import numpy as np"
      ]
    },
    {
      "cell_type": "code",
      "execution_count": null,
      "id": "7c163f74",
      "metadata": {
        "id": "7c163f74"
      },
      "outputs": [],
      "source": [
        "# Membaca data mentah (raw data)\n",
        "data = pd.read_csv('crx.data', header=None)"
      ]
    },
    {
      "cell_type": "code",
      "execution_count": null,
      "id": "5e0819cc",
      "metadata": {
        "id": "5e0819cc"
      },
      "outputs": [],
      "source": [
        "# Membentuk list Fitur A1..A17\n",
        "\n",
        "varnames = ['A'+str(s) for s in range(1,17)]\n",
        "\n",
        "# Men-set masing-masing kolom dari data yang ada\n",
        "# Hal ini dilakukan karena data mentah yang dipakai tidak memiliki judul fitur\n",
        "data.columns = varnames\n",
        "\n",
        "# Mengganti data dengan nilai ? dengan nilai Nan\n",
        "data = data.replace('?', np.nan)"
      ]
    },
    {
      "cell_type": "code",
      "execution_count": null,
      "id": "e6c317d8",
      "metadata": {
        "id": "e6c317d8"
      },
      "outputs": [],
      "source": [
        "# merubah tipe data dari kolom A2 dan A14 menjadi tipe float\n",
        "data['A2'] = data['A2'].astype('float')\n",
        "data['A14'] = data['A14'].astype('float')"
      ]
    },
    {
      "cell_type": "code",
      "execution_count": null,
      "id": "f73b824e",
      "metadata": {
        "id": "f73b824e"
      },
      "outputs": [],
      "source": [
        "#melakukan proses maping data text menjadi menjadi bentuk binary\n",
        "data['A16'] = data['A16'].map({'+':1, '-':0})"
      ]
    },
    {
      "cell_type": "code",
      "execution_count": null,
      "id": "14b264b1",
      "metadata": {
        "id": "14b264b1"
      },
      "outputs": [],
      "source": [
        "#membuat list dengan fitur data dengan jenis kategori dan jenis numerik\n",
        "cat_cols = [c for c in data.columns if data[c].dtypes=='O']\n",
        "num_cols = [c for c in data.columns if data[c].dtypes!='O']"
      ]
    },
    {
      "cell_type": "code",
      "execution_count": null,
      "id": "95efefb9",
      "metadata": {
        "id": "95efefb9"
      },
      "outputs": [],
      "source": [
        "# melakukan inputasi terhadap data yang kosong dengan nilai\n",
        "# 0 untuk list data bernilai numerik\n",
        "# Missing untuk data kolom fitur berjenis kategori\n",
        "data[num_cols] = data[num_cols].fillna(0)\n",
        "data[cat_cols] = data[cat_cols].fillna('Missing')\n",
        "\n",
        "#menyimpan data yang telah di transformasi dalam bentuk csv\n",
        "data.to_csv('creditApprovalUCI.csv', index=False)\n"
      ]
    },
    {
      "cell_type": "code",
      "execution_count": null,
      "id": "32d9f0cb",
      "metadata": {
        "id": "32d9f0cb"
      },
      "outputs": [],
      "source": [
        "### Pada sesi lab ini dibutuhkan library sklearn, silahkan anda melakukan instalasi dengan perintah berikut :\n",
        "### pip install sklearn\n",
        "import pandas as pd\n",
        "from sklearn.model_selection import train_test_split\n",
        "from sklearn.preprocessing import OneHotEncoder"
      ]
    },
    {
      "cell_type": "code",
      "execution_count": null,
      "id": "faeb6865",
      "metadata": {
        "id": "faeb6865",
        "outputId": "64384366-68f3-4b07-e976-5782235a40be"
      },
      "outputs": [
        {
          "data": {
            "text/html": [
              "<div>\n",
              "<style scoped>\n",
              "    .dataframe tbody tr th:only-of-type {\n",
              "        vertical-align: middle;\n",
              "    }\n",
              "\n",
              "    .dataframe tbody tr th {\n",
              "        vertical-align: top;\n",
              "    }\n",
              "\n",
              "    .dataframe thead th {\n",
              "        text-align: right;\n",
              "    }\n",
              "</style>\n",
              "<table border=\"1\" class=\"dataframe\">\n",
              "  <thead>\n",
              "    <tr style=\"text-align: right;\">\n",
              "      <th></th>\n",
              "      <th>A1</th>\n",
              "      <th>A2</th>\n",
              "      <th>A3</th>\n",
              "      <th>A4</th>\n",
              "      <th>A5</th>\n",
              "      <th>A6</th>\n",
              "      <th>A7</th>\n",
              "      <th>A8</th>\n",
              "      <th>A9</th>\n",
              "      <th>A10</th>\n",
              "      <th>A11</th>\n",
              "      <th>A12</th>\n",
              "      <th>A13</th>\n",
              "      <th>A14</th>\n",
              "      <th>A15</th>\n",
              "      <th>A16</th>\n",
              "    </tr>\n",
              "  </thead>\n",
              "  <tbody>\n",
              "    <tr>\n",
              "      <th>0</th>\n",
              "      <td>b</td>\n",
              "      <td>30.83</td>\n",
              "      <td>0.000</td>\n",
              "      <td>u</td>\n",
              "      <td>g</td>\n",
              "      <td>w</td>\n",
              "      <td>v</td>\n",
              "      <td>1.25</td>\n",
              "      <td>t</td>\n",
              "      <td>t</td>\n",
              "      <td>1</td>\n",
              "      <td>f</td>\n",
              "      <td>g</td>\n",
              "      <td>202.0</td>\n",
              "      <td>0</td>\n",
              "      <td>1</td>\n",
              "    </tr>\n",
              "    <tr>\n",
              "      <th>1</th>\n",
              "      <td>a</td>\n",
              "      <td>58.67</td>\n",
              "      <td>4.460</td>\n",
              "      <td>u</td>\n",
              "      <td>g</td>\n",
              "      <td>q</td>\n",
              "      <td>h</td>\n",
              "      <td>3.04</td>\n",
              "      <td>t</td>\n",
              "      <td>t</td>\n",
              "      <td>6</td>\n",
              "      <td>f</td>\n",
              "      <td>g</td>\n",
              "      <td>43.0</td>\n",
              "      <td>560</td>\n",
              "      <td>1</td>\n",
              "    </tr>\n",
              "    <tr>\n",
              "      <th>2</th>\n",
              "      <td>a</td>\n",
              "      <td>24.50</td>\n",
              "      <td>0.500</td>\n",
              "      <td>u</td>\n",
              "      <td>g</td>\n",
              "      <td>q</td>\n",
              "      <td>h</td>\n",
              "      <td>1.50</td>\n",
              "      <td>t</td>\n",
              "      <td>f</td>\n",
              "      <td>0</td>\n",
              "      <td>f</td>\n",
              "      <td>g</td>\n",
              "      <td>280.0</td>\n",
              "      <td>824</td>\n",
              "      <td>1</td>\n",
              "    </tr>\n",
              "    <tr>\n",
              "      <th>3</th>\n",
              "      <td>b</td>\n",
              "      <td>27.83</td>\n",
              "      <td>1.540</td>\n",
              "      <td>u</td>\n",
              "      <td>g</td>\n",
              "      <td>w</td>\n",
              "      <td>v</td>\n",
              "      <td>3.75</td>\n",
              "      <td>t</td>\n",
              "      <td>t</td>\n",
              "      <td>5</td>\n",
              "      <td>t</td>\n",
              "      <td>g</td>\n",
              "      <td>100.0</td>\n",
              "      <td>3</td>\n",
              "      <td>1</td>\n",
              "    </tr>\n",
              "    <tr>\n",
              "      <th>4</th>\n",
              "      <td>b</td>\n",
              "      <td>20.17</td>\n",
              "      <td>5.625</td>\n",
              "      <td>u</td>\n",
              "      <td>g</td>\n",
              "      <td>w</td>\n",
              "      <td>v</td>\n",
              "      <td>1.71</td>\n",
              "      <td>t</td>\n",
              "      <td>f</td>\n",
              "      <td>0</td>\n",
              "      <td>f</td>\n",
              "      <td>s</td>\n",
              "      <td>120.0</td>\n",
              "      <td>0</td>\n",
              "      <td>1</td>\n",
              "    </tr>\n",
              "  </tbody>\n",
              "</table>\n",
              "</div>"
            ],
            "text/plain": [
              "  A1     A2     A3 A4 A5 A6 A7    A8 A9 A10  A11 A12 A13    A14  A15  A16\n",
              "0  b  30.83  0.000  u  g  w  v  1.25  t   t    1   f   g  202.0    0    1\n",
              "1  a  58.67  4.460  u  g  q  h  3.04  t   t    6   f   g   43.0  560    1\n",
              "2  a  24.50  0.500  u  g  q  h  1.50  t   f    0   f   g  280.0  824    1\n",
              "3  b  27.83  1.540  u  g  w  v  3.75  t   t    5   t   g  100.0    3    1\n",
              "4  b  20.17  5.625  u  g  w  v  1.71  t   f    0   f   s  120.0    0    1"
            ]
          },
          "execution_count": 9,
          "metadata": {},
          "output_type": "execute_result"
        }
      ],
      "source": [
        "# Membaca data yang telah di transformasi sebelumnya\n",
        "data = pd.read_csv('creditApprovalUCI.csv')\n",
        "data.head()"
      ]
    },
    {
      "cell_type": "code",
      "execution_count": null,
      "id": "6deafa5c",
      "metadata": {
        "id": "6deafa5c"
      },
      "outputs": [],
      "source": [
        "# Memisahkan data yang akan digunakan sebagai testing ste\n",
        "X_train, X_test, y_train, y_test = train_test_split( data.drop(labels=['A16'], axis=1), data['A16'], test_size=0.3,\n",
        "random_state=0)"
      ]
    },
    {
      "cell_type": "code",
      "execution_count": null,
      "id": "821e3caa",
      "metadata": {
        "id": "821e3caa",
        "outputId": "f20b77a0-ac33-43f0-804f-0c9bd3e139b3"
      },
      "outputs": [
        {
          "data": {
            "text/plain": [
              "array(['u', 'y', 'Missing', 'l'], dtype=object)"
            ]
          },
          "execution_count": 11,
          "metadata": {},
          "output_type": "execute_result"
        }
      ],
      "source": [
        "#Melakukan pengecekan nilai apa saja yang ada pada kolom A4\n",
        "X_train['A4'].unique()"
      ]
    },
    {
      "cell_type": "code",
      "execution_count": null,
      "id": "bade0658",
      "metadata": {
        "id": "bade0658",
        "outputId": "04784a61-11bf-4327-b8a5-31b345abca57"
      },
      "outputs": [
        {
          "data": {
            "text/html": [
              "<div>\n",
              "<style scoped>\n",
              "    .dataframe tbody tr th:only-of-type {\n",
              "        vertical-align: middle;\n",
              "    }\n",
              "\n",
              "    .dataframe tbody tr th {\n",
              "        vertical-align: top;\n",
              "    }\n",
              "\n",
              "    .dataframe thead th {\n",
              "        text-align: right;\n",
              "    }\n",
              "</style>\n",
              "<table border=\"1\" class=\"dataframe\">\n",
              "  <thead>\n",
              "    <tr style=\"text-align: right;\">\n",
              "      <th></th>\n",
              "      <th>l</th>\n",
              "      <th>u</th>\n",
              "      <th>y</th>\n",
              "    </tr>\n",
              "  </thead>\n",
              "  <tbody>\n",
              "    <tr>\n",
              "      <th>596</th>\n",
              "      <td>0</td>\n",
              "      <td>1</td>\n",
              "      <td>0</td>\n",
              "    </tr>\n",
              "    <tr>\n",
              "      <th>303</th>\n",
              "      <td>0</td>\n",
              "      <td>1</td>\n",
              "      <td>0</td>\n",
              "    </tr>\n",
              "    <tr>\n",
              "      <th>204</th>\n",
              "      <td>0</td>\n",
              "      <td>0</td>\n",
              "      <td>1</td>\n",
              "    </tr>\n",
              "    <tr>\n",
              "      <th>351</th>\n",
              "      <td>0</td>\n",
              "      <td>0</td>\n",
              "      <td>1</td>\n",
              "    </tr>\n",
              "    <tr>\n",
              "      <th>118</th>\n",
              "      <td>0</td>\n",
              "      <td>1</td>\n",
              "      <td>0</td>\n",
              "    </tr>\n",
              "  </tbody>\n",
              "</table>\n",
              "</div>"
            ],
            "text/plain": [
              "     l  u  y\n",
              "596  0  1  0\n",
              "303  0  1  0\n",
              "204  0  0  1\n",
              "351  0  0  1\n",
              "118  0  1  0"
            ]
          },
          "execution_count": 12,
          "metadata": {},
          "output_type": "execute_result"
        }
      ],
      "source": [
        "tmp = pd.get_dummies(X_train['A4'], drop_first=True)\n",
        "\n",
        "# Menampilkan 5 data awal dari hasil transformasi yang dilakukan\n",
        "tmp.head()"
      ]
    },
    {
      "cell_type": "code",
      "execution_count": null,
      "id": "93d36ea6",
      "metadata": {
        "id": "93d36ea6"
      },
      "outputs": [],
      "source": [
        "# Untuk melakukan proses encoding data kategori secara bersamaan, pertama-tama kita membentuk list dari masing-masing\n",
        "# kolom\n",
        "vars_categorical = ['A1', 'A4', 'A5', 'A6', 'A7', 'A9', 'A10', 'A12', 'A13']"
      ]
    },
    {
      "cell_type": "code",
      "execution_count": null,
      "id": "0065a3d8",
      "metadata": {
        "id": "0065a3d8"
      },
      "outputs": [],
      "source": [
        "# Melaukan encoding pada dataset training dan testing pada fitur / kolom yang telah di definisikan sebelumnya.\n",
        "# Fungsi get_dummies() panda menangkap nama variabel, katakanlah, A1,\n",
        "# dan menempatkan garis bawah diikuti dengan nama kategori untuk mengidentifikasi variabel biner yang dihasilkan.\n",
        "X_train_enc = pd.get_dummies(X_train[vars_categorical], drop_first=True)\n",
        "X_test_enc = pd.get_dummies(X_test[vars_categorical], drop_first=True)"
      ]
    },
    {
      "cell_type": "code",
      "execution_count": null,
      "id": "8f29a6ac",
      "metadata": {
        "id": "8f29a6ac",
        "outputId": "b443f2ea-bc39-4765-fb1f-0d69b0661d4c"
      },
      "outputs": [
        {
          "data": {
            "text/html": [
              "<div>\n",
              "<style scoped>\n",
              "    .dataframe tbody tr th:only-of-type {\n",
              "        vertical-align: middle;\n",
              "    }\n",
              "\n",
              "    .dataframe tbody tr th {\n",
              "        vertical-align: top;\n",
              "    }\n",
              "\n",
              "    .dataframe thead th {\n",
              "        text-align: right;\n",
              "    }\n",
              "</style>\n",
              "<table border=\"1\" class=\"dataframe\">\n",
              "  <thead>\n",
              "    <tr style=\"text-align: right;\">\n",
              "      <th></th>\n",
              "      <th>A1_a</th>\n",
              "      <th>A1_b</th>\n",
              "      <th>A4_l</th>\n",
              "      <th>A4_u</th>\n",
              "      <th>A4_y</th>\n",
              "      <th>A5_g</th>\n",
              "      <th>A5_gg</th>\n",
              "      <th>A5_p</th>\n",
              "      <th>A6_aa</th>\n",
              "      <th>A6_c</th>\n",
              "      <th>...</th>\n",
              "      <th>A7_j</th>\n",
              "      <th>A7_n</th>\n",
              "      <th>A7_o</th>\n",
              "      <th>A7_v</th>\n",
              "      <th>A7_z</th>\n",
              "      <th>A9_t</th>\n",
              "      <th>A10_t</th>\n",
              "      <th>A12_t</th>\n",
              "      <th>A13_p</th>\n",
              "      <th>A13_s</th>\n",
              "    </tr>\n",
              "  </thead>\n",
              "  <tbody>\n",
              "    <tr>\n",
              "      <th>596</th>\n",
              "      <td>1</td>\n",
              "      <td>0</td>\n",
              "      <td>0</td>\n",
              "      <td>1</td>\n",
              "      <td>0</td>\n",
              "      <td>1</td>\n",
              "      <td>0</td>\n",
              "      <td>0</td>\n",
              "      <td>0</td>\n",
              "      <td>1</td>\n",
              "      <td>...</td>\n",
              "      <td>0</td>\n",
              "      <td>0</td>\n",
              "      <td>0</td>\n",
              "      <td>1</td>\n",
              "      <td>0</td>\n",
              "      <td>1</td>\n",
              "      <td>1</td>\n",
              "      <td>1</td>\n",
              "      <td>0</td>\n",
              "      <td>0</td>\n",
              "    </tr>\n",
              "    <tr>\n",
              "      <th>303</th>\n",
              "      <td>1</td>\n",
              "      <td>0</td>\n",
              "      <td>0</td>\n",
              "      <td>1</td>\n",
              "      <td>0</td>\n",
              "      <td>1</td>\n",
              "      <td>0</td>\n",
              "      <td>0</td>\n",
              "      <td>0</td>\n",
              "      <td>0</td>\n",
              "      <td>...</td>\n",
              "      <td>0</td>\n",
              "      <td>0</td>\n",
              "      <td>0</td>\n",
              "      <td>1</td>\n",
              "      <td>0</td>\n",
              "      <td>0</td>\n",
              "      <td>0</td>\n",
              "      <td>0</td>\n",
              "      <td>0</td>\n",
              "      <td>0</td>\n",
              "    </tr>\n",
              "    <tr>\n",
              "      <th>204</th>\n",
              "      <td>0</td>\n",
              "      <td>1</td>\n",
              "      <td>0</td>\n",
              "      <td>0</td>\n",
              "      <td>1</td>\n",
              "      <td>0</td>\n",
              "      <td>0</td>\n",
              "      <td>1</td>\n",
              "      <td>0</td>\n",
              "      <td>0</td>\n",
              "      <td>...</td>\n",
              "      <td>0</td>\n",
              "      <td>0</td>\n",
              "      <td>0</td>\n",
              "      <td>1</td>\n",
              "      <td>0</td>\n",
              "      <td>1</td>\n",
              "      <td>1</td>\n",
              "      <td>0</td>\n",
              "      <td>0</td>\n",
              "      <td>0</td>\n",
              "    </tr>\n",
              "    <tr>\n",
              "      <th>351</th>\n",
              "      <td>0</td>\n",
              "      <td>1</td>\n",
              "      <td>0</td>\n",
              "      <td>0</td>\n",
              "      <td>1</td>\n",
              "      <td>0</td>\n",
              "      <td>0</td>\n",
              "      <td>1</td>\n",
              "      <td>0</td>\n",
              "      <td>0</td>\n",
              "      <td>...</td>\n",
              "      <td>0</td>\n",
              "      <td>0</td>\n",
              "      <td>0</td>\n",
              "      <td>0</td>\n",
              "      <td>0</td>\n",
              "      <td>0</td>\n",
              "      <td>0</td>\n",
              "      <td>0</td>\n",
              "      <td>0</td>\n",
              "      <td>0</td>\n",
              "    </tr>\n",
              "    <tr>\n",
              "      <th>118</th>\n",
              "      <td>0</td>\n",
              "      <td>1</td>\n",
              "      <td>0</td>\n",
              "      <td>1</td>\n",
              "      <td>0</td>\n",
              "      <td>1</td>\n",
              "      <td>0</td>\n",
              "      <td>0</td>\n",
              "      <td>0</td>\n",
              "      <td>0</td>\n",
              "      <td>...</td>\n",
              "      <td>0</td>\n",
              "      <td>0</td>\n",
              "      <td>0</td>\n",
              "      <td>1</td>\n",
              "      <td>0</td>\n",
              "      <td>1</td>\n",
              "      <td>1</td>\n",
              "      <td>1</td>\n",
              "      <td>0</td>\n",
              "      <td>0</td>\n",
              "    </tr>\n",
              "  </tbody>\n",
              "</table>\n",
              "<p>5 rows × 36 columns</p>\n",
              "</div>"
            ],
            "text/plain": [
              "     A1_a  A1_b  A4_l  A4_u  A4_y  A5_g  A5_gg  A5_p  A6_aa  A6_c  ...  A7_j  \\\n",
              "596     1     0     0     1     0     1      0     0      0     1  ...     0   \n",
              "303     1     0     0     1     0     1      0     0      0     0  ...     0   \n",
              "204     0     1     0     0     1     0      0     1      0     0  ...     0   \n",
              "351     0     1     0     0     1     0      0     1      0     0  ...     0   \n",
              "118     0     1     0     1     0     1      0     0      0     0  ...     0   \n",
              "\n",
              "     A7_n  A7_o  A7_v  A7_z  A9_t  A10_t  A12_t  A13_p  A13_s  \n",
              "596     0     0     1     0     1      1      1      0      0  \n",
              "303     0     0     1     0     0      0      0      0      0  \n",
              "204     0     0     1     0     1      1      0      0      0  \n",
              "351     0     0     0     0     0      0      0      0      0  \n",
              "118     0     0     1     0     1      1      1      0      0  \n",
              "\n",
              "[5 rows x 36 columns]"
            ]
          },
          "execution_count": 15,
          "metadata": {},
          "output_type": "execute_result"
        }
      ],
      "source": [
        "X_train_enc.head()"
      ]
    },
    {
      "cell_type": "code",
      "execution_count": null,
      "id": "90399031",
      "metadata": {
        "id": "90399031",
        "outputId": "ce0137a0-008b-4da3-ad15-6c58dad94388"
      },
      "outputs": [
        {
          "data": {
            "text/html": [
              "<style>#sk-container-id-1 {color: black;background-color: white;}#sk-container-id-1 pre{padding: 0;}#sk-container-id-1 div.sk-toggleable {background-color: white;}#sk-container-id-1 label.sk-toggleable__label {cursor: pointer;display: block;width: 100%;margin-bottom: 0;padding: 0.3em;box-sizing: border-box;text-align: center;}#sk-container-id-1 label.sk-toggleable__label-arrow:before {content: \"▸\";float: left;margin-right: 0.25em;color: #696969;}#sk-container-id-1 label.sk-toggleable__label-arrow:hover:before {color: black;}#sk-container-id-1 div.sk-estimator:hover label.sk-toggleable__label-arrow:before {color: black;}#sk-container-id-1 div.sk-toggleable__content {max-height: 0;max-width: 0;overflow: hidden;text-align: left;background-color: #f0f8ff;}#sk-container-id-1 div.sk-toggleable__content pre {margin: 0.2em;color: black;border-radius: 0.25em;background-color: #f0f8ff;}#sk-container-id-1 input.sk-toggleable__control:checked~div.sk-toggleable__content {max-height: 200px;max-width: 100%;overflow: auto;}#sk-container-id-1 input.sk-toggleable__control:checked~label.sk-toggleable__label-arrow:before {content: \"▾\";}#sk-container-id-1 div.sk-estimator input.sk-toggleable__control:checked~label.sk-toggleable__label {background-color: #d4ebff;}#sk-container-id-1 div.sk-label input.sk-toggleable__control:checked~label.sk-toggleable__label {background-color: #d4ebff;}#sk-container-id-1 input.sk-hidden--visually {border: 0;clip: rect(1px 1px 1px 1px);clip: rect(1px, 1px, 1px, 1px);height: 1px;margin: -1px;overflow: hidden;padding: 0;position: absolute;width: 1px;}#sk-container-id-1 div.sk-estimator {font-family: monospace;background-color: #f0f8ff;border: 1px dotted black;border-radius: 0.25em;box-sizing: border-box;margin-bottom: 0.5em;}#sk-container-id-1 div.sk-estimator:hover {background-color: #d4ebff;}#sk-container-id-1 div.sk-parallel-item::after {content: \"\";width: 100%;border-bottom: 1px solid gray;flex-grow: 1;}#sk-container-id-1 div.sk-label:hover label.sk-toggleable__label {background-color: #d4ebff;}#sk-container-id-1 div.sk-serial::before {content: \"\";position: absolute;border-left: 1px solid gray;box-sizing: border-box;top: 0;bottom: 0;left: 50%;z-index: 0;}#sk-container-id-1 div.sk-serial {display: flex;flex-direction: column;align-items: center;background-color: white;padding-right: 0.2em;padding-left: 0.2em;position: relative;}#sk-container-id-1 div.sk-item {position: relative;z-index: 1;}#sk-container-id-1 div.sk-parallel {display: flex;align-items: stretch;justify-content: center;background-color: white;position: relative;}#sk-container-id-1 div.sk-item::before, #sk-container-id-1 div.sk-parallel-item::before {content: \"\";position: absolute;border-left: 1px solid gray;box-sizing: border-box;top: 0;bottom: 0;left: 50%;z-index: -1;}#sk-container-id-1 div.sk-parallel-item {display: flex;flex-direction: column;z-index: 1;position: relative;background-color: white;}#sk-container-id-1 div.sk-parallel-item:first-child::after {align-self: flex-end;width: 50%;}#sk-container-id-1 div.sk-parallel-item:last-child::after {align-self: flex-start;width: 50%;}#sk-container-id-1 div.sk-parallel-item:only-child::after {width: 0;}#sk-container-id-1 div.sk-dashed-wrapped {border: 1px dashed gray;margin: 0 0.4em 0.5em 0.4em;box-sizing: border-box;padding-bottom: 0.4em;background-color: white;}#sk-container-id-1 div.sk-label label {font-family: monospace;font-weight: bold;display: inline-block;line-height: 1.2em;}#sk-container-id-1 div.sk-label-container {text-align: center;}#sk-container-id-1 div.sk-container {/* jupyter's `normalize.less` sets `[hidden] { display: none; }` but bootstrap.min.css set `[hidden] { display: none !important; }` so we also need the `!important` here to be able to override the default hidden behavior on the sphinx rendered scikit-learn.org. See: https://github.com/scikit-learn/scikit-learn/issues/21755 */display: inline-block !important;position: relative;}#sk-container-id-1 div.sk-text-repr-fallback {display: none;}</style><div id=\"sk-container-id-1\" class=\"sk-top-container\"><div class=\"sk-text-repr-fallback\"><pre>OneHotEncoder(drop=&#x27;first&#x27;, sparse=False)</pre><b>In a Jupyter environment, please rerun this cell to show the HTML representation or trust the notebook. <br />On GitHub, the HTML representation is unable to render, please try loading this page with nbviewer.org.</b></div><div class=\"sk-container\" hidden><div class=\"sk-item\"><div class=\"sk-estimator sk-toggleable\"><input class=\"sk-toggleable__control sk-hidden--visually\" id=\"sk-estimator-id-1\" type=\"checkbox\" checked><label for=\"sk-estimator-id-1\" class=\"sk-toggleable__label sk-toggleable__label-arrow\">OneHotEncoder</label><div class=\"sk-toggleable__content\"><pre>OneHotEncoder(drop=&#x27;first&#x27;, sparse=False)</pre></div></div></div></div></div>"
            ],
            "text/plain": [
              "OneHotEncoder(drop='first', sparse=False)"
            ]
          },
          "execution_count": 16,
          "metadata": {},
          "output_type": "execute_result"
        }
      ],
      "source": [
        "## Melakukan proses encoding\n",
        "encoder = OneHotEncoder(categories='auto', drop='first', sparse=False)\n",
        "\n",
        "encoder.fit(X_train[vars_categorical])"
      ]
    },
    {
      "cell_type": "code",
      "execution_count": null,
      "id": "6f60c741",
      "metadata": {
        "id": "6f60c741"
      },
      "outputs": [],
      "source": [
        "X_train_enc = encoder.transform(X_train[vars_categorical])\n",
        "X_test_enc = encoder.transform(X_test[vars_categorical])\n"
      ]
    },
    {
      "cell_type": "code",
      "execution_count": null,
      "id": "c9c8e4a3",
      "metadata": {
        "id": "c9c8e4a3"
      },
      "outputs": [],
      "source": [
        "## jangan lupa melakukan instalasi feature_engine terlebih dahulu dengan perintah : pip install feature_engine dan pip install feature-engine==0.3.0\n",
        "\n",
        "from feature_engine.categorical_encoders import OneHotCategoricalEncoder"
      ]
    },
    {
      "cell_type": "code",
      "execution_count": null,
      "id": "efb8cb8e",
      "metadata": {
        "id": "efb8cb8e"
      },
      "outputs": [],
      "source": [
        "# set up encoder untuk membentuk nilai k-1\n",
        "# Parameter top_categories=None, menunjukkan bahwa Anda akan melakukan encoding semua pada\n",
        "# kategori yang ada dalam variabel kategori.\n",
        "ohe_enc = OneHotCategoricalEncoder(top_categories=None,drop_last=True)"
      ]
    },
    {
      "cell_type": "code",
      "execution_count": null,
      "id": "e9b51129",
      "metadata": {
        "id": "e9b51129"
      },
      "outputs": [],
      "source": [
        "# Implementasi encoder ke rlata latih sehingga ia mempelajari kategori dan variabel yang akan dikodekan:\n",
        "ohe_enc.fit(X_train)"
      ]
    },
    {
      "cell_type": "code",
      "execution_count": null,
      "id": "bbbe1596",
      "metadata": {
        "id": "bbbe1596"
      },
      "outputs": [],
      "source": [
        "X_train_enc = ohe_enc.transform(X_train)\n",
        "X_test_enc = ohe_enc.transform(X_test)\n",
        "X_train.head()"
      ]
    },
    {
      "cell_type": "code",
      "execution_count": null,
      "id": "0b56c0d5",
      "metadata": {
        "id": "0b56c0d5"
      },
      "outputs": [],
      "source": [
        "X_train_enc.head()"
      ]
    }
  ],
  "metadata": {
    "kernelspec": {
      "display_name": "Python 3 (ipykernel)",
      "language": "python",
      "name": "python3"
    },
    "language_info": {
      "codemirror_mode": {
        "name": "ipython",
        "version": 3
      },
      "file_extension": ".py",
      "mimetype": "text/x-python",
      "name": "python",
      "nbconvert_exporter": "python",
      "pygments_lexer": "ipython3",
      "version": "3.9.5"
    },
    "colab": {
      "provenance": [],
      "include_colab_link": true
    }
  },
  "nbformat": 4,
  "nbformat_minor": 5
}