{
  "cells": [
    {
      "cell_type": "markdown",
      "metadata": {
        "id": "view-in-github",
        "colab_type": "text"
      },
      "source": [
        "<a href=\"https://colab.research.google.com/github/danielaquaries20/TugasML_1/blob/master/Python1_print_var_input.ipynb\" target=\"_parent\"><img src=\"https://colab.research.google.com/assets/colab-badge.svg\" alt=\"Open In Colab\"/></a>"
      ]
    },
    {
      "cell_type": "code",
      "execution_count": 1,
      "metadata": {
        "id": "bUE0O1fG95-H",
        "outputId": "d181e593-670e-4c37-8e64-99e2d726be2c",
        "colab": {
          "base_uri": "https://localhost:8080/"
        }
      },
      "outputs": [
        {
          "output_type": "stream",
          "name": "stdout",
          "text": [
            "Hello World!@#!#!$\n",
            "test\n"
          ]
        }
      ],
      "source": [
        "print(\"Hello World!@#!#!$\")\n",
        "print(\"test\")"
      ]
    },
    {
      "cell_type": "code",
      "execution_count": 2,
      "metadata": {
        "id": "Y7ibFXB695-K",
        "outputId": "cc537414-3f11-4732-fe71-4cc7afb997f1",
        "colab": {
          "base_uri": "https://localhost:8080/"
        }
      },
      "outputs": [
        {
          "output_type": "stream",
          "name": "stdout",
          "text": [
            "Hello, Python!\n",
            "Abu\n",
            "Abu\n"
          ]
        }
      ],
      "source": [
        "print(\"Hello, Python!\")\n",
        "print(\"Abu\")\n",
        "print('Abu')"
      ]
    },
    {
      "cell_type": "code",
      "execution_count": 3,
      "metadata": {
        "id": "2khEH0Gw95-L",
        "outputId": "cc433ae7-d50c-40fa-e2c3-4cbac4f21e39",
        "colab": {
          "base_uri": "https://localhost:8080/"
        }
      },
      "outputs": [
        {
          "output_type": "stream",
          "name": "stdout",
          "text": [
            "\n",
            "Saya sudah sarapan tadi pagi\n",
            " dan nanti siang makan lagi\n",
            "Saya sudah sarapan tadi pagi\t dan nanti siang makan lagi\n"
          ]
        }
      ],
      "source": [
        "print()\n",
        "\n",
        "print(\"Saya sudah sarapan tadi pagi\\n dan nanti siang makan lagi\")\n",
        "print(\"Saya sudah sarapan tadi pagi\\t dan nanti siang makan lagi\")"
      ]
    },
    {
      "cell_type": "code",
      "execution_count": 4,
      "metadata": {
        "id": "wrXJOmnz95-N",
        "outputId": "c09f3edc-4b89-4aaf-e762-45f7dd3b0dda",
        "colab": {
          "base_uri": "https://localhost:8080/"
        }
      },
      "outputs": [
        {
          "output_type": "stream",
          "name": "stdout",
          "text": [
            "nama saya \"abu\"\n"
          ]
        }
      ],
      "source": [
        "print(\"nama saya \\\"abu\\\"\")"
      ]
    },
    {
      "cell_type": "code",
      "execution_count": 5,
      "metadata": {
        "id": "HerETKoW95-O",
        "outputId": "aba4b449-c948-427a-c9fd-f5c5caa8cc41",
        "colab": {
          "base_uri": "https://localhost:8080/"
        }
      },
      "outputs": [
        {
          "output_type": "stream",
          "name": "stdout",
          "text": [
            "\"\n"
          ]
        }
      ],
      "source": [
        "print(\"\\\"\")"
      ]
    },
    {
      "cell_type": "code",
      "execution_count": 6,
      "metadata": {
        "id": "jd6o4Ibp95-O",
        "outputId": "1e16f640-10a9-4932-9d03-be6158aa87a0",
        "colab": {
          "base_uri": "https://localhost:8080/"
        }
      },
      "outputs": [
        {
          "output_type": "stream",
          "name": "stdout",
          "text": [
            "satu. dua. tiga.\n"
          ]
        }
      ],
      "source": [
        "print(\"satu.\",\"dua.\",\"tiga.\")"
      ]
    },
    {
      "cell_type": "code",
      "execution_count": 7,
      "metadata": {
        "id": "QrwzQH9Q95-P",
        "outputId": "a1009d95-4d36-4b3a-cd73-171424843bca",
        "colab": {
          "base_uri": "https://localhost:8080/"
        }
      },
      "outputs": [
        {
          "output_type": "stream",
          "name": "stdout",
          "text": [
            "Nama saya Abu Salam\n"
          ]
        }
      ],
      "source": [
        "print(\"Nama saya\",\"Abu\", end=\" \")\n",
        "print(\"Salam\")"
      ]
    },
    {
      "cell_type": "code",
      "execution_count": 8,
      "metadata": {
        "id": "ukuvxNH895-Q",
        "outputId": "6e3668cc-e958-46e5-8466-9a6c5886dce7",
        "colab": {
          "base_uri": "https://localhost:8080/"
        }
      },
      "outputs": [
        {
          "output_type": "stream",
          "name": "stdout",
          "text": [
            "satu, dua, tiga\n"
          ]
        }
      ],
      "source": [
        "print(\"satu\",\"dua\",\"tiga\", sep=\", \")"
      ]
    },
    {
      "cell_type": "code",
      "execution_count": 9,
      "metadata": {
        "id": "LPjnQIYC95-R",
        "outputId": "41a83b37-a461-46aa-82cd-713dce78889f",
        "colab": {
          "base_uri": "https://localhost:8080/"
        }
      },
      "outputs": [
        {
          "output_type": "stream",
          "name": "stdout",
          "text": [
            "Programming Essentials in\n",
            "Python\n"
          ]
        }
      ],
      "source": [
        "#Clue\n",
        "print(\"Programming\",\"Essentials\",\"in\")\n",
        "print(\"Python\")"
      ]
    },
    {
      "cell_type": "code",
      "execution_count": 10,
      "metadata": {
        "id": "7ZoHRTV295-S",
        "outputId": "0f427bf1-8dde-4b1d-92f1-3b0ad322cc5c",
        "colab": {
          "base_uri": "https://localhost:8080/"
        }
      },
      "outputs": [
        {
          "output_type": "stream",
          "name": "stdout",
          "text": [
            "Programming***Essentials***in...PythonPython\n"
          ]
        }
      ],
      "source": [
        "#Programming***Essentials***in...PythonPython\n",
        "\n",
        "print(\"Programming\",\"Essentials\",\"in\", sep=\"***\", end=\"...\")\n",
        "print(\"Python\"*2)"
      ]
    },
    {
      "cell_type": "code",
      "execution_count": 11,
      "metadata": {
        "id": "NBIGm3A_95-T",
        "outputId": "ac34a767-fdca-44b2-a948-3fc620b1d2ad",
        "colab": {
          "base_uri": "https://localhost:8080/"
        }
      },
      "outputs": [
        {
          "output_type": "stream",
          "name": "stdout",
          "text": [
            "    *        *    \n",
            "   * *      * *   \n",
            "  *   *    *   *  \n",
            " *     *  *     * \n",
            "***   ******   ***\n",
            "  *   *    *   *  \n",
            "  *   *    *   *  \n",
            "  *****    *****  \n"
          ]
        }
      ],
      "source": [
        "#clue\n",
        "\n",
        "print(\"    *    \"*2)\n",
        "print(\"   * *   \"*2)\n",
        "print(\"  *   *  \"*2)\n",
        "print(\" *     * \"*2)\n",
        "print(\"***   ***\"*2)\n",
        "print(\"  *   *  \"*2)\n",
        "print(\"  *   *  \"*2)\n",
        "print(\"  *****  \"*2)"
      ]
    },
    {
      "cell_type": "code",
      "execution_count": 12,
      "metadata": {
        "id": "zEzTqzgw95-T",
        "outputId": "b3621ce2-f822-497a-a426-a8d1ee8c8518",
        "colab": {
          "base_uri": "https://localhost:8080/"
        }
      },
      "outputs": [
        {
          "output_type": "stream",
          "name": "stdout",
          "text": [
            "    *\n",
            "   * *\n",
            "  *   *\n",
            " *     *\n",
            "***   ***\n",
            "  *   *\n",
            "  *   *\n",
            "  *****\n",
            "    *\n",
            "   * *\n",
            "  *   *\n",
            " *     *\n",
            "***   ***\n",
            "  *   *\n",
            "  *   *\n",
            "  *****\n",
            "\n"
          ]
        }
      ],
      "source": [
        "print(\"    *\\n   * *\\n  *   *\\n *     *\\n***   ***\\n  *   *\\n  *   *\\n  *****\\n\"*2)"
      ]
    },
    {
      "cell_type": "code",
      "execution_count": 13,
      "metadata": {
        "id": "OejIREDr95-U",
        "colab": {
          "base_uri": "https://localhost:8080/"
        },
        "outputId": "3b5dba76-f40e-4b9a-9937-f768343b60d1"
      },
      "outputs": [
        {
          "output_type": "stream",
          "name": "stdout",
          "text": [
            "22\n",
            "4\n",
            "<class 'str'>\n",
            "<class 'int'>\n"
          ]
        }
      ],
      "source": [
        "print(\"2\"*2)\n",
        "print(2*2)\n",
        "\n",
        "print(type(\"2\"))\n",
        "print(type(2))"
      ]
    },
    {
      "cell_type": "code",
      "execution_count": 14,
      "metadata": {
        "id": "aTMFCl3095-U",
        "colab": {
          "base_uri": "https://localhost:8080/"
        },
        "outputId": "32f61445-7527-4948-dfe6-d41e019b9ad9"
      },
      "outputs": [
        {
          "output_type": "stream",
          "name": "stdout",
          "text": [
            "5 mempunyai tipe <class 'int'>\n",
            "0.5 mempunyai tipe <class 'float'>\n"
          ]
        }
      ],
      "source": [
        "print(5, \"mempunyai tipe\", type(5))\n",
        "print(.5, \"mempunyai tipe\", type(.5))"
      ]
    },
    {
      "cell_type": "code",
      "execution_count": 15,
      "metadata": {
        "id": "iPTVwOk595-W",
        "colab": {
          "base_uri": "https://localhost:8080/"
        },
        "outputId": "d8e72ad3-5085-415d-f13b-946068ad3f7f"
      },
      "outputs": [
        {
          "output_type": "stream",
          "name": "stdout",
          "text": [
            "True\n",
            "False\n",
            "True\n",
            "False\n"
          ]
        }
      ],
      "source": [
        "print(True)\n",
        "print(False)\n",
        "\n",
        "print(4>2)\n",
        "print(3>4)"
      ]
    },
    {
      "cell_type": "code",
      "execution_count": 16,
      "metadata": {
        "id": "dE9bIxQ795-W",
        "colab": {
          "base_uri": "https://localhost:8080/"
        },
        "outputId": "5c781079-09d7-4521-9696-e63adab53668"
      },
      "outputs": [
        {
          "output_type": "stream",
          "name": "stdout",
          "text": [
            "\n"
          ]
        }
      ],
      "source": [
        "print()"
      ]
    },
    {
      "cell_type": "code",
      "execution_count": 17,
      "metadata": {
        "id": "bzmDFJ-Y95-X",
        "colab": {
          "base_uri": "https://localhost:8080/"
        },
        "outputId": "ab96b2f6-e22f-4c91-d7e6-7571d1e1f23e"
      },
      "outputs": [
        {
          "output_type": "stream",
          "name": "stdout",
          "text": [
            "\"I'm\"\n",
            "\"\"learning\"\"\n",
            "\"\"\"Python\"\"\"\n",
            "\n",
            "\"I'm\"\n",
            "\"\"learning\"\"\n",
            "\"\"\"Python\"\"\"\n",
            "\n"
          ]
        }
      ],
      "source": [
        "print('\"I\\'m\"\\n\"\"learning\"\"\\n\"\"\"Python\"\"\"')\n",
        "\n",
        "print(\"\"\"\n",
        "\"I'm\"\n",
        "\"\"learning\"\"\n",
        "\\\"\"\"Python\"\"\\\"\n",
        "\"\"\")"
      ]
    },
    {
      "cell_type": "code",
      "execution_count": 18,
      "metadata": {
        "id": "MoO8_Z1V95-Z",
        "outputId": "3c83d396-d104-4153-8600-51ecd74ef987",
        "colab": {
          "base_uri": "https://localhost:8080/"
        }
      },
      "outputs": [
        {
          "output_type": "stream",
          "name": "stdout",
          "text": [
            "8\n",
            "8.0\n",
            "8.0\n",
            "8.0\n"
          ]
        }
      ],
      "source": [
        "print(2 ** 3)\n",
        "print(2 ** 3.)\n",
        "print(2. ** 3.)\n",
        "print(2. ** 3)"
      ]
    },
    {
      "cell_type": "code",
      "execution_count": 19,
      "metadata": {
        "id": "miNSqoGO95-Z",
        "colab": {
          "base_uri": "https://localhost:8080/"
        },
        "outputId": "49ccdc82-7413-4de0-e4ed-ccf221cf4306"
      },
      "outputs": [
        {
          "output_type": "stream",
          "name": "stdout",
          "text": [
            "3.3333333333333335\n",
            "3\n",
            "2.0\n",
            "2.0\n",
            "0\n",
            "4.0\n"
          ]
        }
      ],
      "source": [
        "print(10 / 3)\n",
        "print(10 // 3)\n",
        "\n",
        "print(6 / 3.)\n",
        "print(6 // 3.)\n",
        "\n",
        "print(-4 + 4)\n",
        "print(-4. + 8)"
      ]
    },
    {
      "cell_type": "code",
      "execution_count": 20,
      "metadata": {
        "id": "UZ9LHDWA95-a",
        "colab": {
          "base_uri": "https://localhost:8080/"
        },
        "outputId": "b7a82ae8-cf4b-45ab-fb84-f23908d5a4f2"
      },
      "outputs": [
        {
          "output_type": "execute_result",
          "data": {
            "text/plain": [
              "17"
            ]
          },
          "metadata": {},
          "execution_count": 20
        }
      ],
      "source": [
        "2 + 3 *5"
      ]
    },
    {
      "cell_type": "code",
      "execution_count": 21,
      "metadata": {
        "id": "DyfUO8qi95-a",
        "colab": {
          "base_uri": "https://localhost:8080/"
        },
        "outputId": "c3cbab1b-898e-47db-c084-8e49ba807e12"
      },
      "outputs": [
        {
          "output_type": "stream",
          "name": "stdout",
          "text": [
            "1\n",
            "3\n",
            "1\n",
            "256\n",
            "4\n",
            "256\n"
          ]
        }
      ],
      "source": [
        "print(9 % 6 % 2)\n",
        "print(9 % 6)\n",
        "print(3 % 2)\n",
        "\n",
        "print(2 ** 2 ** 3)\n",
        "print(2 ** 2)\n",
        "print(2 ** 8)"
      ]
    },
    {
      "cell_type": "code",
      "execution_count": 22,
      "metadata": {
        "id": "XofRZLl695-k",
        "colab": {
          "base_uri": "https://localhost:8080/"
        },
        "outputId": "06800c5d-c594-4ddc-b0bd-3a6d814d8f25"
      },
      "outputs": [
        {
          "output_type": "stream",
          "name": "stdout",
          "text": [
            "10.0\n"
          ]
        }
      ],
      "source": [
        "print((5 * ((25 % 13)+100) / (2 * 13)) // 2)"
      ]
    },
    {
      "cell_type": "code",
      "execution_count": 23,
      "metadata": {
        "id": "oO-cqkW895-k",
        "colab": {
          "base_uri": "https://localhost:8080/"
        },
        "outputId": "6458a832-98af-44ff-e715-41d87117818e"
      },
      "outputs": [
        {
          "output_type": "stream",
          "name": "stdout",
          "text": [
            "1\n"
          ]
        }
      ],
      "source": [
        "var = 1\n",
        "print(var)"
      ]
    },
    {
      "cell_type": "code",
      "execution_count": 24,
      "metadata": {
        "id": "EbB1Oilo95-l",
        "colab": {
          "base_uri": "https://localhost:8080/"
        },
        "outputId": "a3205a72-9b55-4237-db38-52279365dcdd"
      },
      "outputs": [
        {
          "output_type": "stream",
          "name": "stdout",
          "text": [
            "c =  3.605551275463989\n"
          ]
        }
      ],
      "source": [
        "a=2.\n",
        "b=3.\n",
        "c=(a**2 + b**2) ** 0.5\n",
        "print(\"c = \", c)"
      ]
    },
    {
      "cell_type": "code",
      "execution_count": 25,
      "metadata": {
        "id": "E8zbkorA95-m"
      },
      "outputs": [],
      "source": [
        "Darjo = 2\n",
        "Darno = 5\n",
        "Waginem = 6"
      ]
    },
    {
      "cell_type": "code",
      "execution_count": 26,
      "metadata": {
        "id": "dNfR93mG95-m",
        "colab": {
          "base_uri": "https://localhost:8080/"
        },
        "outputId": "145fdde5-e310-47e1-e96b-027ca678ef5d"
      },
      "outputs": [
        {
          "output_type": "stream",
          "name": "stdout",
          "text": [
            "7.38 1 mil adalah 11.88 kilometer\n",
            "12.25 1 kilometer adalah 7.61 mil\n"
          ]
        }
      ],
      "source": [
        "kilometer = 12.25\n",
        "mil = 7.38\n",
        "\n",
        "miles_to_kilometers = mil * 1.61\n",
        "kilometers_to_miles = kilometer / 1.61\n",
        "\n",
        "print(mil, \"1 mil adalah\", round(miles_to_kilometers, 2), \"kilometer\")\n",
        "print(kilometer, \"1 kilometer adalah\", round(kilometers_to_miles, 2), \"mil\")"
      ]
    },
    {
      "cell_type": "code",
      "execution_count": 27,
      "metadata": {
        "id": "xLw1jbAq95-n",
        "colab": {
          "base_uri": "https://localhost:8080/"
        },
        "outputId": "3b23d880-8449-4555-c94d-f774711b3d63"
      },
      "outputs": [
        {
          "output_type": "stream",
          "name": "stdout",
          "text": [
            "3\n"
          ]
        }
      ],
      "source": [
        "var = 2\n",
        "var = 3\n",
        "print(var)"
      ]
    },
    {
      "cell_type": "code",
      "execution_count": 28,
      "metadata": {
        "id": "6MAHEPfp95-p",
        "colab": {
          "base_uri": "https://localhost:8080/"
        },
        "outputId": "446a24f0-6521-4d13-d8a1-da283de26b1a"
      },
      "outputs": [
        {
          "output_type": "stream",
          "name": "stdout",
          "text": [
            "Hai...\n"
          ]
        }
      ],
      "source": [
        "#test\n",
        "print(\"Hai...\")\n",
        "#test1\n",
        "#test2"
      ]
    },
    {
      "cell_type": "code",
      "execution_count": 29,
      "metadata": {
        "id": "z87VkSmI95-q",
        "outputId": "2da6deba-d1a0-41df-bf3b-17fe32989649",
        "colab": {
          "base_uri": "https://localhost:8080/"
        }
      },
      "outputs": [
        {
          "output_type": "stream",
          "name": "stdout",
          "text": [
            "Katakan sesuatu...\n",
            "Halo Program\n",
            "mmmmm Halo Program  Oke\n"
          ]
        }
      ],
      "source": [
        "print(\"Katakan sesuatu...\")\n",
        "sesuatu = input()\n",
        "print(\"mmmmm\", sesuatu, \" Oke\")"
      ]
    },
    {
      "cell_type": "code",
      "execution_count": 30,
      "metadata": {
        "id": "DibT673895-r",
        "colab": {
          "base_uri": "https://localhost:8080/"
        },
        "outputId": "3bcf9a74-d9c8-4b3f-f748-9cf4c5c22ffd"
      },
      "outputs": [
        {
          "output_type": "stream",
          "name": "stdout",
          "text": [
            "Masukan Angka : 12\n",
            "Pangkat duanya adalah  144.0\n"
          ]
        }
      ],
      "source": [
        "angka = float(input(\"Masukan Angka : \"))\n",
        "print(\"Pangkat duanya adalah \", angka**2)"
      ]
    },
    {
      "cell_type": "code",
      "execution_count": 31,
      "metadata": {
        "id": "Q9cMKtiH95-s",
        "colab": {
          "base_uri": "https://localhost:8080/"
        },
        "outputId": "b0a1586e-d934-418e-c11b-6aeef658624d"
      },
      "outputs": [
        {
          "output_type": "stream",
          "name": "stdout",
          "text": [
            "+----------+\n",
            "|          |\n",
            "|          |\n",
            "|          |\n",
            "|          |\n",
            "|          |\n",
            "+----------+\n"
          ]
        }
      ],
      "source": [
        "print(\"+\" + 10*\"-\" + \"+\")\n",
        "print((\"|\" + 10*\" \" + \"|\\n\") * 5, end=\"\")\n",
        "print(\"+\" + 10*\"-\" + \"+\")"
      ]
    },
    {
      "cell_type": "code",
      "execution_count": 32,
      "metadata": {
        "id": "-F51Qh3N95-u",
        "colab": {
          "base_uri": "https://localhost:8080/"
        },
        "outputId": "a0baa5fa-507c-4bd5-8a80-6c8637f1ca5f"
      },
      "outputs": [
        {
          "output_type": "stream",
          "name": "stdout",
          "text": [
            "\"I'm\"\n",
            " \"\"learning\"\"\n",
            " \"\"\"Python\"\"\"\n",
            "\n"
          ]
        }
      ],
      "source": [
        "print(\"\\\"I'm\\\"\\n \\\"\\\"learning\\\"\\\"\\n \\\"\\\"\\\"Python\\\"\\\"\\\"\\n\")"
      ]
    }
  ],
  "metadata": {
    "kernelspec": {
      "display_name": "Python 3 (ipykernel)",
      "language": "python",
      "name": "python3"
    },
    "language_info": {
      "codemirror_mode": {
        "name": "ipython",
        "version": 3
      },
      "file_extension": ".py",
      "mimetype": "text/x-python",
      "name": "python",
      "nbconvert_exporter": "python",
      "pygments_lexer": "ipython3",
      "version": "3.9.5"
    },
    "colab": {
      "provenance": [],
      "include_colab_link": true
    }
  },
  "nbformat": 4,
  "nbformat_minor": 0
}