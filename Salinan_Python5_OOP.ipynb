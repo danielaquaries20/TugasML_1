{
  "cells": [
    {
      "cell_type": "markdown",
      "metadata": {
        "id": "view-in-github",
        "colab_type": "text"
      },
      "source": [
        "<a href=\"https://colab.research.google.com/github/danielaquaries20/TugasML_1/blob/master/Salinan_Python5_OOP.ipynb\" target=\"_parent\"><img src=\"https://colab.research.google.com/assets/colab-badge.svg\" alt=\"Open In Colab\"/></a>"
      ]
    },
    {
      "cell_type": "code",
      "execution_count": 1,
      "metadata": {
        "colab": {
          "base_uri": "https://localhost:8080/"
        },
        "id": "bUMomHaCGQNy",
        "outputId": "c3b1e23b-9d17-4bed-b9ad-f2842eafd0f1"
      },
      "outputs": [
        {
          "output_type": "stream",
          "name": "stdout",
          "text": [
            "Papi is a bird\n",
            "Greeny is also a bird\n",
            "Papi is 3 years old\n",
            "Greeny is 5 years old\n"
          ]
        }
      ],
      "source": [
        "class Parrot:\n",
        "\n",
        "    # class attribute\n",
        "    species = \"bird\"\n",
        "\n",
        "    # instance attribute\n",
        "    # constructor\n",
        "    def __init__(self, name, age):\n",
        "        self.name = name\n",
        "        self.age = age\n",
        "\n",
        "# # instantiate the Parrot class\n",
        "papi = Parrot(\"Papi\", 3)\n",
        "greeny = Parrot(\"Greeny\", 5)\n",
        "\n",
        "# access the class attributes\n",
        "print(\"Papi is a \" + papi.species)\n",
        "print(\"Greeny is also a \" + greeny.species)\n",
        "\n",
        "# access the instance attributes\n",
        "print(papi.name + \" is \" + str(papi.age) + \" years old\")\n",
        "print(greeny.name + \" is \" + str(greeny.age) + \" years old\")"
      ]
    },
    {
      "cell_type": "code",
      "execution_count": 2,
      "metadata": {
        "colab": {
          "base_uri": "https://localhost:8080/"
        },
        "id": "mwO6XY--GQN2",
        "outputId": "197a7475-945b-46dd-83de-197067e71a9c"
      },
      "outputs": [
        {
          "output_type": "stream",
          "name": "stdout",
          "text": [
            "====================\n",
            "12345 Mikael Semarang\n",
            "1 Matematika 98\n",
            "2 IPA 95\n",
            "3 Bahasa Inggris 100\n",
            "Rata-Rata Nilai 97.66666666666667\n",
            "====================\n",
            "====================\n",
            "12346 Yosua Jakarta\n",
            "1 Pemrograman Web 100\n",
            "2 Networking 1 100\n",
            "Rata-Rata Nilai 100.0\n",
            "Jurusan :  Rekayasa Perangkat Lunak\n"
          ]
        }
      ],
      "source": [
        "## Objek SIswa\n",
        "class Siswa:\n",
        "\n",
        "    def __init__(self, nis, nama, alamat):\n",
        "        self.nis = nis\n",
        "        self.nama = nama\n",
        "        self.alamat = alamat\n",
        "        self.__mata_pelajaran = []\n",
        "        self.__nilai = []\n",
        "\n",
        "    def tampilkan(self):\n",
        "        print(\"=\"*20)\n",
        "        print(self.nis,self.nama,self.alamat)\n",
        "        self.tampilkanNilai()\n",
        "        self.tampilkanRataNilai()\n",
        "        print(\"=\"*20)\n",
        "\n",
        "    def tambahNilai(self, mapel, n):\n",
        "        self.__mata_pelajaran.append(mapel)\n",
        "        self.__nilai.append(n)\n",
        "\n",
        "    def tampilkanNilai(self):\n",
        "        for i,j in enumerate(self.__mata_pelajaran):\n",
        "            print(i+1, self.__mata_pelajaran[i],self.__nilai[i])\n",
        "\n",
        "    def tampilkanRataNilai(self):\n",
        "        jumlah = 0\n",
        "        for n in self.__nilai:\n",
        "            jumlah += n\n",
        "        rata = jumlah / len(self.__nilai)\n",
        "        print(\"Rata-Rata Nilai\",rata)\n",
        "\n",
        "class SiswaSMK(Siswa):\n",
        "\n",
        "    def __init__(self, nis, nama, alamat, jurusan):\n",
        "        self.jurusan = jurusan\n",
        "        super().__init__(nis, nama, alamat)\n",
        "\n",
        "    def tampilkan(self):\n",
        "        print(\"=\"*20)\n",
        "        print(self.nis,self.nama,self.alamat)\n",
        "        super().tampilkanNilai()\n",
        "        super().tampilkanRataNilai()\n",
        "        print(\"Jurusan : \", self.jurusan)\n",
        "\n",
        "\n",
        "mikael = Siswa(\"12345\", \"Mikael\", \"Semarang\")\n",
        "yosua = SiswaSMK(\"12346\", \"Yosua\", \"Jakarta\", \"Rekayasa Perangkat Lunak\")\n",
        "\n",
        "## tambah nilai\n",
        "mikael.tambahNilai(\"Matematika\", 98)\n",
        "mikael.tambahNilai(\"IPA\", 95)\n",
        "mikael.tambahNilai(\"Bahasa Inggris\", 100)\n",
        "\n",
        "mikael.tampilkan()\n",
        "\n",
        "yosua.tambahNilai(\"Pemrograman Web\", 100)\n",
        "yosua.tambahNilai(\"Networking 1\", 100)\n",
        "yosua.tampilkan()\n",
        "\n",
        "#mikael.tampilkanNilai()\n",
        "#mikael.tampilkanRataNilai()\n",
        "#yosua.tampilkan()"
      ]
    },
    {
      "cell_type": "code",
      "execution_count": 3,
      "metadata": {
        "id": "gFKLDppyGQN7"
      },
      "outputs": [],
      "source": [
        "class Parrot:\n",
        "\n",
        "    # instance attributes\n",
        "    def __init__(self, name, age):\n",
        "        self.name = name\n",
        "        self.age = age\n",
        "\n",
        "    # instance method\n",
        "    def sing(self, song):\n",
        "        return \"{} sings {}\".format(self.name, song)\n",
        "\n",
        "    def dance(self):\n",
        "        return \"{} is now dancing\".format(self.name)\n",
        "\n",
        "# instantiate the object\n",
        "\n",
        "\n",
        "# call our instance methods\n",
        "\n"
      ]
    },
    {
      "cell_type": "code",
      "execution_count": 4,
      "metadata": {
        "colab": {
          "base_uri": "https://localhost:8080/"
        },
        "id": "ZRgGLk-PGQN9",
        "outputId": "8beca4d0-f2f8-4528-d787-6af112459369"
      },
      "outputs": [
        {
          "output_type": "stream",
          "name": "stdout",
          "text": [
            "<class '__main__.Vehicle'> <class '__main__.Vehicle'> True\r\n",
            "<class '__main__.Vehicle'> <class '__main__.LandVehicle'> False\r\n",
            "<class '__main__.Vehicle'> <class '__main__.TrackedVehicle'> False\r\n",
            "\n",
            "<class '__main__.LandVehicle'> <class '__main__.Vehicle'> True\r\n",
            "<class '__main__.LandVehicle'> <class '__main__.LandVehicle'> True\r\n",
            "<class '__main__.LandVehicle'> <class '__main__.TrackedVehicle'> False\r\n",
            "\n",
            "<class '__main__.TrackedVehicle'> <class '__main__.Vehicle'> True\r\n",
            "<class '__main__.TrackedVehicle'> <class '__main__.LandVehicle'> True\r\n",
            "<class '__main__.TrackedVehicle'> <class '__main__.TrackedVehicle'> True\r\n",
            "\n"
          ]
        }
      ],
      "source": [
        "class Vehicle:\n",
        "    pass\n",
        "\n",
        "class LandVehicle(Vehicle):\n",
        "    pass\n",
        "\n",
        "class TrackedVehicle(LandVehicle):\n",
        "    pass\n",
        "\n",
        "\n",
        "for cls1 in [Vehicle, LandVehicle, TrackedVehicle]:\n",
        "    for cls2 in [Vehicle, LandVehicle, TrackedVehicle]:\n",
        "        print(cls1,cls2,issubclass(cls1, cls2), end=\"\\r\\n\")\n",
        "    print()"
      ]
    },
    {
      "cell_type": "code",
      "execution_count": 5,
      "metadata": {
        "colab": {
          "base_uri": "https://localhost:8080/"
        },
        "id": "hHak5GdDGQN-",
        "outputId": "413c05cd-3333-4304-e09c-6c70aa903fee"
      },
      "outputs": [
        {
          "output_type": "stream",
          "name": "stdout",
          "text": [
            "My name is Andy.\n"
          ]
        }
      ],
      "source": [
        "class Super:\n",
        "    def __init__(self, name):\n",
        "        self.name = name\n",
        "\n",
        "    def __str__(self):\n",
        "        return \"My name is \" + self.name + \".\"\n",
        "\n",
        "\n",
        "class Sub(Super):\n",
        "    def __init__(self, name):\n",
        "        Super.__init__(self, name)\n",
        "\n",
        "\n",
        "obj = Sub(\"Andy\")\n",
        "\n",
        "print(obj)"
      ]
    },
    {
      "cell_type": "code",
      "execution_count": 6,
      "metadata": {
        "colab": {
          "base_uri": "https://localhost:8080/"
        },
        "id": "i0vlP3v5GQN_",
        "outputId": "01776cad-cf18-41b5-d51f-836b5d6296e3"
      },
      "outputs": [
        {
          "output_type": "stream",
          "name": "stdout",
          "text": [
            "Bird is ready\n",
            "Penguin is ready\n",
            "Penguin\n",
            "Swim faster\n",
            "Run faster\n"
          ]
        }
      ],
      "source": [
        "# parent class\n",
        "class Bird:\n",
        "\n",
        "    def __init__(self):\n",
        "        print(\"Bird is ready\")\n",
        "\n",
        "    def whoisThis(self):\n",
        "        print(\"Bird\")\n",
        "\n",
        "    def swim(self):\n",
        "        print(\"Swim faster\")\n",
        "\n",
        "# child class\n",
        "class Penguin(Bird):\n",
        "\n",
        "    def __init__(self):\n",
        "        # call super() function\n",
        "        super().__init__()\n",
        "        print(\"Penguin is ready\")\n",
        "\n",
        "    def whoisThis(self):\n",
        "        print(\"Penguin\")\n",
        "\n",
        "    def run(self):\n",
        "        print(\"Run faster\")\n",
        "\n",
        "peggy = Penguin()\n",
        "peggy.whoisThis()\n",
        "peggy.swim()\n",
        "peggy.run()"
      ]
    },
    {
      "cell_type": "code",
      "execution_count": 7,
      "metadata": {
        "colab": {
          "base_uri": "https://localhost:8080/"
        },
        "id": "_wMSXRcfGQOB",
        "outputId": "46af5838-fb09-4fcb-840b-491065b7e102"
      },
      "outputs": [
        {
          "output_type": "stream",
          "name": "stdout",
          "text": [
            "Saldo saat ini 1000\n",
            "Gagal Debit, Jumlah melebihi Saldo!\n"
          ]
        }
      ],
      "source": [
        "class Rekening:\n",
        "    def __init__(self):\n",
        "        self.__saldo = 0\n",
        "\n",
        "    def kredit(self, jumlah):\n",
        "        if jumlah < 0:\n",
        "            print(\"Gagal Kredit, Jumlah tidak bisa kurang dari 0\")\n",
        "            return\n",
        "\n",
        "        self.__saldo += jumlah\n",
        "\n",
        "    def debit(self, jumlah):\n",
        "        if jumlah > self.__saldo:\n",
        "            print(\"Gagal Debit, Jumlah melebihi Saldo!\")\n",
        "            return\n",
        "\n",
        "        if jumlah < 0:\n",
        "            print(\"Gagal Debit, Jumlah tidak bisa kurang dari 0\")\n",
        "            return\n",
        "\n",
        "        self.__saldo -= jumlah\n",
        "\n",
        "    def cetakSaldo(self):\n",
        "        print(\"Saldo saat ini \" + str(self.__saldo))\n",
        "\n",
        "bniBudi = Rekening()\n",
        "\n",
        "bniBudi.kredit(1000)\n",
        "bniBudi.cetakSaldo()\n",
        "bniBudi.debit(100000)\n"
      ]
    },
    {
      "cell_type": "code",
      "execution_count": 8,
      "metadata": {
        "colab": {
          "base_uri": "https://localhost:8080/"
        },
        "id": "nhhlwBBTGQOC",
        "outputId": "81c2d135-b141-46e7-a8fd-96d22b57553a"
      },
      "outputs": [
        {
          "output_type": "stream",
          "name": "stdout",
          "text": [
            "1\n",
            "2\n",
            "3\n"
          ]
        }
      ],
      "source": [
        "stack = []\n",
        "\n",
        "def push(val):\n",
        "    stack.append(val)\n",
        "\n",
        "\n",
        "def pop():\n",
        "    val = stack[-1]\n",
        "    del stack[-1]\n",
        "    return val\n",
        "\n",
        "push(3)\n",
        "push(2)\n",
        "push(1)\n",
        "\n",
        "print(pop())\n",
        "print(pop())\n",
        "print(pop())"
      ]
    },
    {
      "cell_type": "code",
      "execution_count": 9,
      "metadata": {
        "colab": {
          "base_uri": "https://localhost:8080/"
        },
        "id": "-c4VI7VRGQOC",
        "outputId": "ce65e24d-1699-43cd-c499-62a832521dce"
      },
      "outputs": [
        {
          "output_type": "stream",
          "name": "stdout",
          "text": [
            "0\n"
          ]
        }
      ],
      "source": [
        "class Stack:\n",
        "    def __init__(self):\n",
        "        self.stackList = []\n",
        "\n",
        "stackObject = Stack()\n",
        "print(len(stackObject.stackList))"
      ]
    },
    {
      "cell_type": "code",
      "execution_count": 11,
      "metadata": {
        "colab": {
          "base_uri": "https://localhost:8080/"
        },
        "id": "ixXfveKRGQOD",
        "outputId": "bde0b5c9-0199-4cb6-e382-ff3f4b2f8331"
      },
      "outputs": [
        {
          "output_type": "stream",
          "name": "stdout",
          "text": [
            "0\n"
          ]
        }
      ],
      "source": [
        "class Stack:\n",
        "    def __init__(self):\n",
        "        self.__stackList = [] # __ membuat private\n",
        "\n",
        "    def get_length(self):\n",
        "        \"\"\"Returns the number of elements in the stack.\"\"\"\n",
        "        return len(self.__stackList)\n",
        "\n",
        "stackObject = Stack()\n",
        "# Use the public method to get the length\n",
        "print(stackObject.get_length())"
      ]
    },
    {
      "cell_type": "code",
      "execution_count": 12,
      "metadata": {
        "colab": {
          "base_uri": "https://localhost:8080/"
        },
        "id": "k2KR0JHKGQOE",
        "outputId": "e4d5b570-691c-408f-cae1-5c841bb5a8f3"
      },
      "outputs": [
        {
          "output_type": "stream",
          "name": "stdout",
          "text": [
            "1\n",
            "2\n",
            "3\n"
          ]
        }
      ],
      "source": [
        "class Stack:\n",
        "    def __init__(self):\n",
        "        self.__stackList = []\n",
        "\n",
        "    def push(self, val):\n",
        "        self.__stackList.append(val)\n",
        "\n",
        "    def pop(self):\n",
        "        val = self.__stackList[-1]\n",
        "        del self.__stackList[-1]\n",
        "        return val\n",
        "\n",
        "\n",
        "stackObject = Stack()\n",
        "\n",
        "stackObject.push(3)\n",
        "stackObject.push(2)\n",
        "stackObject.push(1)\n",
        "\n",
        "print(stackObject.pop())\n",
        "print(stackObject.pop())\n",
        "print(stackObject.pop())"
      ]
    },
    {
      "cell_type": "code",
      "execution_count": 13,
      "metadata": {
        "colab": {
          "base_uri": "https://localhost:8080/"
        },
        "id": "l0UOG9XnGQOF",
        "outputId": "1778523c-9b89-4b58-df2d-3e20a0f51db0"
      },
      "outputs": [
        {
          "output_type": "stream",
          "name": "stdout",
          "text": [
            "0\n"
          ]
        }
      ],
      "source": [
        "class Stack:\n",
        "    def __init__(self):\n",
        "        self.__stackList = []\n",
        "\n",
        "    def push(self, val):\n",
        "        self.__stackList.append(val)\n",
        "\n",
        "    def pop(self):\n",
        "        val = self.__stackList[-1]\n",
        "        del self.__stackList[-1]\n",
        "        return val\n",
        "\n",
        "littleStack = Stack()\n",
        "anotherStack = Stack()\n",
        "funnyStack = Stack()\n",
        "\n",
        "littleStack.push(1)\n",
        "anotherStack.push(littleStack.pop() + 1)\n",
        "funnyStack.push(anotherStack.pop() - 2)\n",
        "\n",
        "print(funnyStack.pop())"
      ]
    },
    {
      "cell_type": "code",
      "execution_count": 14,
      "metadata": {
        "colab": {
          "base_uri": "https://localhost:8080/"
        },
        "id": "TzYgLufEGQOF",
        "outputId": "6791cd2a-3fff-41af-ae67-bd2b3742fb5f"
      },
      "outputs": [
        {
          "output_type": "stream",
          "name": "stdout",
          "text": [
            "10\n",
            "4\n",
            "3\n",
            "2\n",
            "1\n",
            "0\n"
          ]
        }
      ],
      "source": [
        "class Stack:\n",
        "    def __init__(self):\n",
        "        self.__stackList = []\n",
        "\n",
        "    def push(self, val):\n",
        "        self.__stackList.append(val)\n",
        "\n",
        "    def pop(self):\n",
        "        val = self.__stackList[-1]\n",
        "        del self.__stackList[-1]\n",
        "        return val\n",
        "\n",
        "\n",
        "class AddingStack(Stack):\n",
        "    def __init__(self):\n",
        "        Stack.__init__(self)\n",
        "        self.__sum = 0\n",
        "\n",
        "    def getSum(self):\n",
        "        return self.__sum\n",
        "\n",
        "    def push(self, val):\n",
        "        self.__sum += val\n",
        "        Stack.push(self, val)\n",
        "\n",
        "    def pop(self):\n",
        "        val = Stack.pop(self)\n",
        "        self.__sum -= val\n",
        "        return val\n",
        "\n",
        "\n",
        "stackObject = AddingStack()\n",
        "\n",
        "for i in range(5):\n",
        "    stackObject.push(i)\n",
        "print(stackObject.getSum())\n",
        "\n",
        "for i in range(5):\n",
        "    print(stackObject.pop())"
      ]
    },
    {
      "cell_type": "code",
      "execution_count": 15,
      "metadata": {
        "colab": {
          "base_uri": "https://localhost:8080/"
        },
        "id": "K7Nk1yqfGQOG",
        "outputId": "fb7bcee4-724b-4358-f204-e1dd83649c75"
      },
      "outputs": [
        {
          "output_type": "stream",
          "name": "stdout",
          "text": [
            "Guntur\n",
            "Guntur\n",
            "Matematika 90\n",
            "Biologi 80\n"
          ]
        }
      ],
      "source": [
        "class Siswa:\n",
        "    #class atribut\n",
        "    __jmlMapel = 0\n",
        "    __mapel = []\n",
        "    __nilai = []\n",
        "\n",
        "    def __init__(self, nama, alamat):\n",
        "        self.nama = nama\n",
        "        self.alamat = alamat\n",
        "\n",
        "    def getNama(self):\n",
        "        return self.nama\n",
        "\n",
        "    def tambahNilaiMapel(self,mapel,nilai):\n",
        "        self.__mapel.append(mapel)\n",
        "        self.__nilai.append(nilai)\n",
        "\n",
        "    def cetakNilai(self):\n",
        "        for i,j in enumerate(self.__mapel):\n",
        "            print(self.__mapel[i], self.__nilai[i])\n",
        "\n",
        "\n",
        "s = Siswa(\"Guntur\",\"Jogja\")\n",
        "print(s.nama) # boleh karena publik\n",
        "print(s.getNama()) # bisa juga\n",
        "s.tambahNilaiMapel(\"Matematika\",90)\n",
        "s.tambahNilaiMapel(\"Biologi\",80)\n",
        "\n",
        "s.cetakNilai() # akses nilai hanya lewat sini\n",
        "\n",
        "# print(s.nilai) # ga boleh karena private\n",
        "# print(s.__nilai) # ga boleh karena private"
      ]
    },
    {
      "cell_type": "code",
      "execution_count": 16,
      "metadata": {
        "colab": {
          "base_uri": "https://localhost:8080/"
        },
        "id": "iPG0JDdvGQOP",
        "outputId": "bd7b66e9-9dd6-4be7-d610-a18e66dbc1c4"
      },
      "outputs": [
        {
          "output_type": "stream",
          "name": "stdout",
          "text": [
            "12.566370614359172\n",
            "12.566370614359172\n",
            "3.141592653589793\n"
          ]
        }
      ],
      "source": [
        "import math\n",
        "class Circle:\n",
        "    def __init__(self, radius, color):\n",
        "        self.__radius = radius\n",
        "        self.__color = color\n",
        "\n",
        "    def getRadius(self):\n",
        "        return self.__radius\n",
        "\n",
        "    def setRadius(self,radius):\n",
        "        self.__radius = radius\n",
        "\n",
        "    def getColor(self):\n",
        "        return self.__color\n",
        "\n",
        "    def setColor(self,color):\n",
        "        self.__color = color\n",
        "\n",
        "    def getArea(self):\n",
        "        return math.pi * self.__radius ** 2\n",
        "\n",
        "\n",
        "# radius = 2, color = blue\n",
        "c1 = Circle(2,\"blue\")\n",
        "# c1.setRadius(2)\n",
        "# c1.setColor(\"blue\")\n",
        "print(c1.getArea())\n",
        "\n",
        "# radius = 2, color = red\n",
        "c2 = Circle(2,\"red\")\n",
        "# c2.setRadius(2)\n",
        "# c2.setColor(\"red\")\n",
        "print(c2.getArea())\n",
        "\n",
        "# radius = 1, color = red\n",
        "c3 = Circle(1,\"red\")\n",
        "# c3.setRadius(1)\n",
        "# c3.setColor(\"red\")\n",
        "print(c3.getArea())"
      ]
    },
    {
      "cell_type": "code",
      "execution_count": 18,
      "metadata": {
        "colab": {
          "base_uri": "https://localhost:8080/"
        },
        "id": "MvpH7phBGQOP",
        "outputId": "0e1043e3-122b-4482-d837-dd674e90243f"
      },
      "outputs": [
        {
          "output_type": "stream",
          "name": "stdout",
          "text": [
            "Masukkan Jumlah Siswa = 1\n",
            "Masukkkan Jumlah Course = 1\n",
            "Masukkan Nama Siswa = Daniel\n",
            "Masukkan Alamat Siswa = Ungaran\n",
            "Masukkan Nama Mapel Siswa Daniel = Matematika\n",
            "Masukkan Nilai Mapel Siswa Daniel = 100\n",
            "Hasil\n",
            "Daniel Ungaran\n",
            "Matematika : 100\n",
            "Rata-Rata :  100.0\n"
          ]
        }
      ],
      "source": [
        "class Student:\n",
        "    def __init__(self,name,address):\n",
        "        self.__name = name\n",
        "        self.__address = address\n",
        "        self.__numCourses = 0\n",
        "        self.__courses = []\n",
        "        self.__grades = []\n",
        "\n",
        "    def getName(self):\n",
        "        return self.__name\n",
        "\n",
        "    def getAddress(self):\n",
        "        return self.__address\n",
        "\n",
        "    def setAddress(self,address):\n",
        "        self.__address = address\n",
        "\n",
        "    def addCourseGrade(self,course,grade):\n",
        "        self.__courses.append(course)\n",
        "        self.__grades.append(grade)\n",
        "        self.__numCourses += 1\n",
        "\n",
        "    def printGrades(self):\n",
        "        for i in range(len(self.__courses)):\n",
        "            print(self.__courses[i] +\" : \"+ str(self.__grades[i]))\n",
        "\n",
        "    def getAverageGrade(self):\n",
        "        sum = 0\n",
        "        for n in self.__grades:\n",
        "            sum += n\n",
        "        return sum / len(self.__grades)\n",
        "\n",
        "\n",
        "n_siswa = int(input(\"Masukkan Jumlah Siswa = \"))\n",
        "n_course = int(input(\"Masukkkan Jumlah Course = \"))\n",
        "\n",
        "siswa = []\n",
        "for i in range(n_siswa):\n",
        "    nama = input(\"Masukkan Nama Siswa = \")\n",
        "    alamat = input(\"Masukkan Alamat Siswa = \")\n",
        "    siswa.append(Student(nama,alamat))\n",
        "    for j in range(n_course):\n",
        "        mapel = input(\"Masukkan Nama Mapel Siswa \"+nama+\" = \")\n",
        "        nilai = int(input(\"Masukkan Nilai Mapel Siswa \"+nama+\" = \"))\n",
        "        siswa[i].addCourseGrade(mapel,nilai)\n",
        "\n",
        "print(\"Hasil\")\n",
        "for i in range(n_siswa):\n",
        "    # Access the current student object from the list 'siswa' using the loop index 'i'\n",
        "    print(siswa[i].getName(),siswa[i].getAddress())\n",
        "    siswa[i].printGrades()\n",
        "    print(\"Rata-Rata : \", siswa[i].getAverageGrade())\n",
        "\n",
        "# s1 = Student(\"Ani\",\"Yogyakarta\")\n",
        "# print(s1.getName(),s1.getAddress())\n",
        "# s1.addCourseGrade(\"Matematika\",95)\n",
        "# s1.addCourseGrade(\"IPA\",90)\n",
        "# s1.addCourseGrade(\"Bahasa Indonesia\",85)\n",
        "# s1.printGrades()\n",
        "# print(\"Rata-Rata : \", s1.getAverageGrade())\n",
        "\n",
        "# print()\n",
        "# s2 = Student(\"Budi\",\"Jakarta\")\n",
        "# print(s2.getName(),s2.getAddress())\n",
        "# s2.addCourseGrade(\"Matematika\",60)\n",
        "# s2.addCourseGrade(\"IPA\",70)\n",
        "# s2.addCourseGrade(\"Bahasa Indonesia\",100)\n",
        "# s2.printGrades()\n",
        "# print(\"Rata-Rata : \", s2.getAverageGrade())"
      ]
    },
    {
      "cell_type": "code",
      "execution_count": 19,
      "metadata": {
        "colab": {
          "base_uri": "https://localhost:8080/"
        },
        "id": "neVffzj4GQOQ",
        "outputId": "5d811f63-8556-44f5-8cb2-e21c0b44ac2f"
      },
      "outputs": [
        {
          "output_type": "stream",
          "name": "stdout",
          "text": [
            "Guntur Budi\n",
            "69000\n"
          ]
        }
      ],
      "source": [
        "class Employee:\n",
        "    def __init__(self,idEmp,firstName,lastName,salary):\n",
        "        self.__idEmp = idEmp\n",
        "        self.__firstName = firstName\n",
        "        self.__lastName = lastName\n",
        "        self.__salary = salary\n",
        "\n",
        "    def getID(self):\n",
        "        return self.__idEmp\n",
        "\n",
        "    def getFirstName(self):\n",
        "        return self.__firstName\n",
        "\n",
        "    def getLastName(self):\n",
        "        return self.__lastName\n",
        "\n",
        "    def getName(self):\n",
        "        return self.__firstName + \" \" + self.__lastName\n",
        "\n",
        "    def getSalary(self):\n",
        "        return self.__salary\n",
        "\n",
        "    def setSalary(self,salary):\n",
        "        self.__salary = salary\n",
        "\n",
        "    def getAnnualSalary(self):\n",
        "        return self.__salary * 12\n",
        "\n",
        "    def raiseSalary(self,percent):\n",
        "        self.__salary += self.__salary * (percent/100)\n",
        "        return self.__salary\n",
        "\n",
        "    def __str__(self):\n",
        "        return self.getName() + \" \" + str(self.getSalary())\n",
        "\n",
        "\n",
        "class Manager(Employee):\n",
        "    def __init__(self,idEmp,firstName,lastName,salary,bonus):\n",
        "        super().__init__(idEmp,firstName,lastName,salary)\n",
        "        self.__bonus = bonus\n",
        "\n",
        "    def setBranch(self, branch):\n",
        "        self.__branch = branch\n",
        "\n",
        "    def getBranch(self, branch):\n",
        "        return self.__branch\n",
        "\n",
        "    def getBonus(self, bonus):\n",
        "        return self.__bonus\n",
        "\n",
        "    def setBonus(self, bonus):\n",
        "        self.__bonus = bonus\n",
        "\n",
        "    def getAnnualSalary(self):\n",
        "        return super().getSalary() * 12 + self.__bonus\n",
        "\n",
        "\n",
        "m1 = Manager(1234,\"Guntur\",\"Budi\",5000,9000)\n",
        "print(m1.getName())\n",
        "print(m1.getAnnualSalary())\n",
        "\n",
        "# e1 = Employee(1234,\"Guntur\",\"Budi\",5000)\n",
        "# print(e1.getSalary())\n",
        "# print(e1.getAnnualSalary())\n",
        "# print(e1.raiseSalary(50))\n",
        "# print(e1.getAnnualSalary())\n",
        "# print(e1)"
      ]
    },
    {
      "cell_type": "code",
      "execution_count": 20,
      "metadata": {
        "id": "y0njmryoGQOR"
      },
      "outputs": [],
      "source": [
        "class Person:\n",
        "    def __init__(self,name,address):\n",
        "        self.__name = name\n",
        "        self.__address = address\n",
        "\n",
        "    def getName(self):\n",
        "        return self.__name\n",
        "\n",
        "    def getAddress(self):\n",
        "        return self.__address\n",
        "\n",
        "    def setName(name):\n",
        "        self.__name = name\n",
        "\n",
        "    def __str__(self):\n",
        "        return self.__name+\" \"+self.__address\n",
        ""
      ]
    },
    {
      "cell_type": "code",
      "execution_count": 21,
      "metadata": {
        "id": "ijaiihU4GQOR"
      },
      "outputs": [],
      "source": [
        "class Student(Person):\n",
        "    def __init__(self,name,address):\n",
        "        super().__init__(name,address)\n",
        "        self.__numCourses = 0\n",
        "        self.__courses = []\n",
        "        self.__grades = []\n",
        "\n",
        "    def addCourseGrade(self,course,grade):\n",
        "        self.__courses.append(course)\n",
        "        self.__grades.append(grade)\n",
        "        self.__numCourses += 1\n",
        "\n",
        "    def printGrades(self):\n",
        "        for i in range(len(self.__courses)):\n",
        "            print(self.__courses[i] +\" : \"+ str(self.__grades[i]))\n",
        "\n",
        "    def getAverageGrade(self):\n",
        "        sum = 0\n",
        "        for n in self.__grades:\n",
        "            sum += n\n",
        "        return sum / len(self.__grades)\n",
        "\n",
        "    def __str__(self):\n",
        "        return \"Student: \" + super().getName() + \" \" +super().getAddress()"
      ]
    },
    {
      "cell_type": "code",
      "execution_count": 22,
      "metadata": {
        "id": "tR4A6GxDGQOS"
      },
      "outputs": [],
      "source": [
        "class Teacher(Person):\n",
        "    def __init__(self,name,address):\n",
        "        super().__init__(name,address)\n",
        "        self.__numCourses = 0\n",
        "        self.__courses = []\n",
        "\n",
        "    def addCourse(self, course):\n",
        "        if course not in self.__courses:\n",
        "            self.__courses.append(course)\n",
        "            return True\n",
        "        else:\n",
        "            return False\n",
        "\n",
        "    def removeCourse(self, course):\n",
        "        if course in self.__courses:\n",
        "            i = self.__courses.index(course)\n",
        "            del self.__courses[i]\n",
        "            return True\n",
        "        else:\n",
        "            return False\n",
        "\n",
        "    def printCourse(self):\n",
        "        print(self.__courses)\n",
        "\n",
        "    def __str__(self):\n",
        "        return \"Teacher: \" + super().getName() + \" \" +super().getAddress()"
      ]
    },
    {
      "cell_type": "code",
      "execution_count": 23,
      "metadata": {
        "scrolled": true,
        "colab": {
          "base_uri": "https://localhost:8080/"
        },
        "id": "-YdIpCkAGQOS",
        "outputId": "d5284342-0189-445d-a365-b178b86e28bd"
      },
      "outputs": [
        {
          "output_type": "stream",
          "name": "stdout",
          "text": [
            "Teacher: Pak Budi Jakarta\n",
            "['Matematika', 'Fisika']\n",
            "Gagal Dihapus\n",
            "['Matematika', 'Fisika']\n"
          ]
        }
      ],
      "source": [
        "t1 = Teacher(\"Pak Budi\",\"Jakarta\")\n",
        "print(t1)\n",
        "\n",
        "t1.addCourse(\"Matematika\")\n",
        "t1.addCourse(\"Fisika\")\n",
        "\n",
        "t1.printCourse()\n",
        "if(t1.removeCourse(\"Biologi\")):\n",
        "    print(\"Berhasil Dihapus\")\n",
        "else:\n",
        "    print(\"Gagal Dihapus\")\n",
        "t1.printCourse()\n"
      ]
    }
  ],
  "metadata": {
    "kernelspec": {
      "display_name": "Python 3 (ipykernel)",
      "language": "python",
      "name": "python3"
    },
    "language_info": {
      "codemirror_mode": {
        "name": "ipython",
        "version": 3
      },
      "file_extension": ".py",
      "mimetype": "text/x-python",
      "name": "python",
      "nbconvert_exporter": "python",
      "pygments_lexer": "ipython3",
      "version": "3.9.5"
    },
    "colab": {
      "provenance": [],
      "include_colab_link": true
    }
  },
  "nbformat": 4,
  "nbformat_minor": 0
}